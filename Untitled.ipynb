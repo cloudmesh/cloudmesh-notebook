{
 "cells": [
  {
   "cell_type": "code",
   "execution_count": 1,
   "metadata": {},
   "outputs": [
    {
     "data": {
      "text/html": [
       "<style>.container { width:100% !important; }</style>"
      ],
      "text/plain": [
       "<IPython.core.display.HTML object>"
      ]
     },
     "metadata": {},
     "output_type": "display_data"
    },
    {
     "name": "stdout",
     "output_type": "stream",
     "text": [
      "\n",
      "# ######################################################################\n",
      "# Cloudmesh\n",
      "# ######################################################################\n",
      "\n"
     ]
    }
   ],
   "source": [
    "import cloudmesh.common.notebook"
   ]
  },
  {
   "cell_type": "code",
   "execution_count": null,
   "metadata": {},
   "outputs": [],
   "source": []
  },
  {
   "cell_type": "code",
   "execution_count": 2,
   "metadata": {},
   "outputs": [],
   "source": [
    "from cloudmesh.common.Printer import Printer"
   ]
  },
  {
   "cell_type": "code",
   "execution_count": 3,
   "metadata": {},
   "outputs": [
    {
     "ename": "SyntaxError",
     "evalue": "unexpected EOF while parsing (<ipython-input-3-ec3dbc18d85c>, line 1)",
     "output_type": "error",
     "traceback": [
      "\u001b[0;36m  File \u001b[0;32m\"<ipython-input-3-ec3dbc18d85c>\"\u001b[0;36m, line \u001b[0;32m1\u001b[0m\n\u001b[0;31m    for page in [1,2,3,4,5]:\u001b[0m\n\u001b[0m                            ^\u001b[0m\n\u001b[0;31mSyntaxError\u001b[0m\u001b[0;31m:\u001b[0m unexpected EOF while parsing\n"
     ]
    }
   ],
   "source": [
    "for page in [1,2,3,4,5]:"
   ]
  },
  {
   "cell_type": "code",
   "execution_count": 40,
   "metadata": {},
   "outputs": [],
   "source": [
    "    path = \"https://api.github.com/orgs/cloudmesh-community/repos?page=1&per_page=500\""
   ]
  },
  {
   "cell_type": "code",
   "execution_count": 41,
   "metadata": {},
   "outputs": [],
   "source": [
    "    r = requests.get(path)"
   ]
  },
  {
   "cell_type": "code",
   "execution_count": 42,
   "metadata": {},
   "outputs": [],
   "source": [
    "    d = r.json()"
   ]
  },
  {
   "cell_type": "code",
   "execution_count": 44,
   "metadata": {},
   "outputs": [],
   "source": [
    "    order=[\"full_name\", \"description\",  \"open_issues\", \"created_at\", \"updated_at\"]"
   ]
  },
  {
   "cell_type": "code",
   "execution_count": 46,
   "metadata": {},
   "outputs": [
    {
     "name": "stdout",
     "output_type": "stream",
     "text": [
      "+-------------------------------------+------------------------------------------+-------------+----------------------+----------------------+\n",
      "| full_name                           | description                              | open_issues | created_at           | updated_at           |\n",
      "+-------------------------------------+------------------------------------------+-------------+----------------------+----------------------+\n",
      "| cloudmesh-community/management      |                                          | 0           | 2018-01-29T19:18:31Z | 2018-02-21T18:04:13Z |\n",
      "| cloudmesh-community/hid-sp18-202    | Cantor, Gabrielle                        | 0           | 2018-01-29T20:11:39Z | 2018-05-01T02:37:40Z |\n",
      "| cloudmesh-community/hid-sp18-208    | Fanbo,Sun                                | 0           | 2018-01-29T20:11:42Z | 2018-04-28T15:57:31Z |\n",
      "| cloudmesh-community/hid-sp18-402    | Athaley, Sushant                         | 0           | 2018-01-29T20:11:45Z | 2018-06-12T04:18:55Z |\n",
      "| cloudmesh-community/hid-sp18-404    | Carmickle, Rick                          | 1           | 2018-01-29T20:11:47Z | 2019-05-10T22:43:50Z |\n",
      "| cloudmesh-community/hid-sp18-405    | Chen, Min                                | 6           | 2018-01-29T20:11:51Z | 2018-05-03T22:40:16Z |\n",
      "| cloudmesh-community/hid-sp18-407    | Keith, Hickman                           | 6           | 2018-01-29T20:11:53Z | 2019-06-18T23:03:47Z |\n",
      "| cloudmesh-community/hid-sp18-408    | Joshi, Manoj                             | 0           | 2018-01-29T20:11:56Z | 2018-05-03T22:40:24Z |\n",
      "| cloudmesh-community/hid-sp18-409    | Kadupitige, Kadupitiya                   | 0           | 2018-01-29T20:11:59Z | 2018-05-09T17:40:32Z |\n",
      "| cloudmesh-community/hid-sp18-410    | Kamatgi, Karan                           | 0           | 2018-01-29T20:12:02Z | 2018-05-09T17:40:35Z |\n",
      "| cloudmesh-community/hid-sp18-412    | Kotabagi, Karan                          | 0           | 2018-01-29T20:12:05Z | 2018-05-09T17:40:40Z |\n",
      "| cloudmesh-community/hid-sp18-415    | Mudvari Khatiwada, Janaki                | 1           | 2018-01-29T20:12:08Z | 2018-05-09T21:12:41Z |\n",
      "| cloudmesh-community/hid-sp18-416    | Sabra, Ossen                             | 2           | 2018-01-29T20:12:11Z | 2018-05-09T17:40:51Z |\n",
      "| cloudmesh-community/hid-sp18-417    | Ray, Rashmi                              | 3           | 2018-01-29T20:12:14Z | 2018-05-17T00:12:25Z |\n",
      "| cloudmesh-community/hid-sp18-418    | Surya Prakash,Sekar                      | 1           | 2018-01-29T20:12:17Z | 2018-05-16T16:54:55Z |\n",
      "| cloudmesh-community/hid-sp18-419    | Sobolik, Bertholt                        | 14          | 2018-01-29T20:12:20Z | 2018-05-16T20:40:55Z |\n",
      "| cloudmesh-community/hid-sp18-501    | Agunbiade, Tolu                          | 0           | 2018-01-29T20:12:23Z | 2018-05-09T17:50:38Z |\n",
      "| cloudmesh-community/hid-sp18-502    | Alshi, Ankita                            | 4           | 2018-01-29T20:12:25Z | 2018-05-09T18:41:20Z |\n",
      "| cloudmesh-community/hid-sp18-504    | Arshad, Moeen                            | 0           | 2018-01-29T20:12:28Z | 2018-05-03T22:41:18Z |\n",
      "| cloudmesh-community/hid-sp18-505    | Cate, Averill                            | 1           | 2018-01-29T20:12:31Z | 2018-05-09T18:41:26Z |\n",
      "| cloudmesh-community/hid-sp18-508    | Guo, Yue                                 | 4           | 2018-01-29T20:12:34Z | 2018-05-09T18:41:32Z |\n",
      "| cloudmesh-community/hid-sp18-510    | Kaul, Naveen                             | 0           | 2018-01-29T20:12:37Z | 2018-05-16T21:06:32Z |\n",
      "| cloudmesh-community/hid-sp18-513    | Kugan, Uma                               | 2           | 2018-01-29T20:12:40Z | 2018-05-16T17:55:28Z |\n",
      "| cloudmesh-community/hid-sp18-514    | Lambadi, Ravinder                        | 1           | 2018-01-29T20:12:42Z | 2018-05-09T18:41:44Z |\n",
      "| cloudmesh-community/hid-sp18-515    | Lin, Qingyun                             | 4           | 2018-01-29T20:12:45Z | 2018-05-09T18:41:47Z |\n",
      "| cloudmesh-community/hid-sp18-516    | Pathan, Shagufta                         | 4           | 2018-01-29T20:12:48Z | 2018-08-12T02:14:57Z |\n",
      "| cloudmesh-community/hid-sp18-517    | Pitkar, Harshad                          | 0           | 2018-01-29T20:12:51Z | 2018-05-03T22:41:49Z |\n",
      "| cloudmesh-community/hid-sp18-518    | Robinson, Michael                        | 0           | 2018-01-29T20:12:53Z | 2018-05-09T18:41:53Z |\n",
      "| cloudmesh-community/hid-sp18-520    | Sinha, Arijit                            | 12          | 2018-01-29T20:12:56Z | 2019-04-17T15:09:32Z |\n",
      "| cloudmesh-community/hid-sp18-521    | Steinbruegge, Scott                      | 1           | 2018-01-29T20:12:59Z | 2018-05-09T18:41:57Z |\n",
      "| cloudmesh-community/hid-sp18-523    | Tandon, Ritesh                           | 13          | 2018-01-29T20:13:02Z | 2019-05-01T05:10:10Z |\n",
      "| cloudmesh-community/hid-sp18-525    | Walker, Bruce                            | 1           | 2018-01-29T20:13:05Z | 2018-05-09T18:42:10Z |\n",
      "| cloudmesh-community/hid-sample      | Gregor von Laszewski                     | 4           | 2018-01-29T20:13:56Z | 2019-04-04T21:50:55Z |\n",
      "| cloudmesh-community/hid-sp18-203    | Clarke, Jack                             | 0           | 2018-01-31T03:56:56Z | 2018-05-01T01:01:47Z |\n",
      "| cloudmesh-community/hid-sp18-204    | Gruenberg, Maxwell                       | 0           | 2018-01-31T03:56:59Z | 2018-05-01T03:52:17Z |\n",
      "| cloudmesh-community/hid-sp18-205    | Jonathan Krzesniak                       | 0           | 2018-01-31T03:57:03Z | 2019-06-21T16:09:46Z |\n",
      "| cloudmesh-community/hid-sp18-206    | Mhatre, Krish Hemant                     | 0           | 2018-01-31T03:57:06Z | 2018-05-01T04:03:53Z |\n",
      "| cloudmesh-community/hid-sp18-209    | Tugman, Anthony                          | 0           | 2018-01-31T03:57:09Z | 2018-04-30T18:20:23Z |\n",
      "| cloudmesh-community/hid-sp18-403    | Axthelm, Alexander                       | 0           | 2018-01-31T03:57:12Z | 2019-04-17T00:10:31Z |\n",
      "| cloudmesh-community/hid-sp18-406    | Dasegowda Gangamayam, Ramyashree         | 0           | 2018-01-31T03:57:15Z | 2018-05-03T22:40:20Z |\n",
      "| cloudmesh-community/hid-sp18-413    | Lavania, Anubhav                         | 0           | 2018-01-31T03:57:18Z | 2018-05-09T17:40:43Z |\n",
      "| cloudmesh-community/hid-sp18-503    | Arnav, Arnav                             | 2           | 2018-01-31T03:57:22Z | 2018-05-09T18:41:22Z |\n",
      "| cloudmesh-community/hid-sp18-509    | Irey, Ryan                               | 0           | 2018-01-31T03:57:25Z | 2018-11-21T23:12:13Z |\n",
      "| cloudmesh-community/hid-sp18-511    | Khandelwal, Sandeep Kumar                | 1           | 2018-01-31T03:57:28Z | 2018-05-09T18:41:38Z |\n",
      "| cloudmesh-community/hid-sp18-512    | Kikaya, Felix                            | 2           | 2018-01-31T03:57:31Z | 2019-05-08T20:13:47Z |\n",
      "| cloudmesh-community/hid-sp18-401    | Arra, Goutham                            | 0           | 2018-02-01T02:54:47Z | 2018-05-16T18:11:56Z |\n",
      "| cloudmesh-community/hid-sp18-414    | Joao Paulo,Leite                         | 1           | 2018-02-01T19:54:12Z | 2018-05-09T17:40:46Z |\n",
      "| cloudmesh-community/hid-sp18-420    | Swarnima, Sowani                         | 0           | 2018-02-01T19:54:15Z | 2018-05-09T17:41:00Z |\n",
      "| cloudmesh-community/hid-sp18-507    | Giuliani, Stephen                        | 4           | 2018-02-01T19:56:54Z | 2018-05-16T22:55:19Z |\n",
      "| cloudmesh-community/hid-sp18-526    | Whitson, Timothy                         | 3           | 2018-02-02T14:48:24Z | 2018-05-17T00:10:40Z |\n",
      "| cloudmesh-community/hid-sp18-601    | Ferrari Gianlupi, Juliano                | 1           | 2018-02-02T14:48:29Z | 2018-05-18T18:41:43Z |\n",
      "| cloudmesh-community/hid-sp18-602    | Naredla, Keerthi                         | 0           | 2018-02-02T15:20:13Z | 2019-04-30T07:18:51Z |\n",
      "| cloudmesh-community/hid-sp18-524    | Tian, Hao                                | 5           | 2018-02-02T15:21:03Z | 2018-05-09T18:42:04Z |\n",
      "| cloudmesh-community/hid-sp18-411    | Kaveripakam, Venkatesh Aditya            | 0           | 2018-02-02T16:36:08Z | 2018-05-09T17:40:37Z |\n",
      "| cloudmesh-community/hid-sp18-421    | Vijjigiri, Priyadarshini                 | 0           | 2018-02-02T16:36:13Z | 2018-05-03T22:41:04Z |\n",
      "| cloudmesh-community/hid-sp18-522    | Swaroop, Saurabh                         | 0           | 2018-02-05T10:40:38Z | 2019-02-01T00:10:30Z |\n",
      "| cloudmesh-community/p-hid-sp18-422  | Cutilli, Ben                             | 7           | 2018-02-05T11:38:50Z | 2018-03-20T18:00:51Z |\n",
      "| cloudmesh-community/hid-sp18-506    | Esteban, Orly                            | 0           | 2018-02-05T11:38:53Z | 2018-05-09T06:24:20Z |\n",
      "| cloudmesh-community/hid-sp18-519    | Saurabh, Shukla                          | 3           | 2018-02-12T07:49:28Z | 2019-02-25T21:57:39Z |\n",
      "| cloudmesh-community/hid-sp18-201    | Ali, Sohile                              | 0           | 2018-02-13T20:17:44Z | 2018-04-26T23:15:30Z |\n",
      "| cloudmesh-community/hid-sp18-207    | Phillips, Eli                            | 0           | 2018-02-14T15:05:56Z | 2018-04-12T15:23:44Z |\n",
      "| cloudmesh-community/proceedings-tex |                                          | 0           | 2018-02-14T17:04:42Z | 2019-04-16T12:18:47Z |\n",
      "| cloudmesh-community/hid-sp18-210    | Aidan Whelan                             | 0           | 2018-02-16T01:55:19Z | 2019-06-21T16:11:10Z |\n",
      "| cloudmesh-community/hid-sp18-701    |  Unni, Sunanda Unni                      | 1           | 2018-02-20T15:31:16Z | 2019-02-21T18:16:24Z |\n",
      "| cloudmesh-community/hid-sp18-702    | Dubey, Lokesh                            | 1           | 2018-02-20T20:17:13Z | 2018-09-28T01:40:56Z |\n",
      "| cloudmesh-community/hid-sp18-703    | Rufael, Ribka                            | 0           | 2018-02-21T00:09:26Z | 2018-05-09T18:42:22Z |\n",
      "| cloudmesh-community/hid-sp18-704    | Meier, Zachary                           | 0           | 2018-02-27T14:52:59Z | 2019-05-01T13:19:30Z |\n",
      "| cloudmesh-community/hid-sp18-705    | Timothy Thompson                         | 0           | 2018-02-27T14:53:03Z | 2018-12-14T22:56:47Z |\n",
      "| cloudmesh-community/hid-sp18-706    | Sylla, Hady                              | 0           | 2018-02-27T14:53:07Z | 2018-06-08T07:05:27Z |\n",
      "| cloudmesh-community/hid-sp18-707    | Smith, MIchael                           | 0           | 2018-03-21T12:06:02Z | 2018-05-09T20:57:01Z |\n",
      "| cloudmesh-community/hid-sp18-708    | Darren Wright                            | 2           | 2018-04-11T20:17:09Z | 2018-04-12T21:14:25Z |\n",
      "| cloudmesh-community/hid-sp18-709    | Andres Castro                            | 2           | 2018-05-14T14:23:53Z | 2019-04-27T13:05:23Z |\n",
      "| cloudmesh-community/hid-sp18-711    | Mani Kagita                              | 0           | 2018-05-14T14:23:57Z | 2018-11-23T01:27:49Z |\n",
      "| cloudmesh-community/hid-sp18-710    | Uma M Kugan                              | 3           | 2018-05-14T14:27:38Z | 2019-04-27T19:00:09Z |\n",
      "| cloudmesh-community/book            | Gregor von Laszewski                     | 84          | 2018-05-30T11:14:59Z | 2019-06-20T17:38:00Z |\n",
      "| cloudmesh-community/cm-burn         | Burns many SD cards so we can build a    | 1           | 2018-07-31T09:58:50Z | 2018-12-11T01:50:09Z |\n",
      "|                                     | Raspberry PI cluster                     |             |                      |                      |\n",
      "| cloudmesh-community/fa18-516-01     | Mario Angelier                           | 0           | 2018-08-30T21:06:02Z | 2018-09-06T01:03:46Z |\n",
      "| cloudmesh-community/fa18-516-02     | Vineet Barshikar                         | 0           | 2018-08-30T21:06:06Z | 2018-12-11T00:33:18Z |\n",
      "| cloudmesh-community/fa18-516-03     | Jonathan Branam                          | 0           | 2018-08-30T21:06:08Z | 2018-12-13T04:40:10Z |\n",
      "| cloudmesh-community/fa18-516-04     | David Demeulenaere                       | 0           | 2018-08-30T21:06:11Z | 2018-12-03T13:01:40Z |\n",
      "| cloudmesh-community/fa18-516-06     | Paul Filliman                            | 0           | 2018-08-30T21:06:16Z | 2018-12-14T22:06:38Z |\n",
      "| cloudmesh-community/fa18-516-08     | Varun Joshi                              | 1           | 2018-08-30T21:06:22Z | 2019-04-18T08:58:20Z |\n",
      "| cloudmesh-community/fa18-516-10     | Rui Li                                   | 0           | 2018-08-30T21:06:24Z | 2018-12-10T03:16:43Z |\n",
      "| cloudmesh-community/fa18-516-11     | Murali Cheruvu                           | 0           | 2018-08-30T21:06:27Z | 2018-12-14T22:27:59Z |\n",
      "| cloudmesh-community/fa18-516-12     | Yu Luo                                   | 0           | 2018-08-30T21:06:29Z | 2018-12-11T14:27:15Z |\n",
      "| cloudmesh-community/fa18-516-14     | Gerald Manipon                           | 0           | 2018-08-30T21:06:34Z | 2018-12-14T22:28:32Z |\n",
      "| cloudmesh-community/fa18-516-17     | Brad Pope                                | 0           | 2018-08-30T21:06:40Z | 2018-12-14T22:29:11Z |\n",
      "| cloudmesh-community/fa18-516-18     | Richa Rastogi                            | 0           | 2018-08-30T21:06:42Z | 2018-12-14T22:29:49Z |\n",
      "| cloudmesh-community/fa18-516-19     | De'Angelo Rutledge                       | 0           | 2018-08-30T21:06:45Z | 2018-12-11T09:53:33Z |\n",
      "| cloudmesh-community/fa18-516-21     | Mihir Shanishchara                       | 0           | 2018-08-30T21:06:50Z | 2018-12-14T22:31:47Z |\n",
      "| cloudmesh-community/fa18-516-22     | Ian Sims                                 | 0           | 2018-08-30T21:06:52Z | 2019-03-21T08:10:49Z |\n",
      "| cloudmesh-community/fa18-516-23     | Anand Sriramulu                          | 0           | 2018-08-30T21:06:54Z | 2018-12-10T23:13:56Z |\n",
      "| cloudmesh-community/fa18-516-24     | Sachith Withana                          | 0           | 2018-08-30T21:06:56Z | 2018-12-11T09:59:36Z |\n",
      "| cloudmesh-community/fa18-516-25     | Chun Sheng Wu                            | 0           | 2018-08-30T21:06:59Z | 2018-12-14T15:04:31Z |\n",
      "| cloudmesh-community/fa18-516-26     | Vafa Andalibi                            | 4           | 2018-08-30T21:07:02Z | 2019-04-17T15:10:31Z |\n",
      "| cloudmesh-community/fa18-423-02     | Kelvin Liuwie                            | 0           | 2018-08-30T23:09:41Z | 2018-12-04T16:06:00Z |\n",
      "| cloudmesh-community/fa18-423-03     | Omkar Tamhankar                          | 0           | 2018-08-30T23:09:43Z | 2018-12-14T22:54:28Z |\n",
      "| cloudmesh-community/fa18-523-53     | Chaitanya Kakarala                       | 0           | 2018-08-30T23:16:47Z | 2018-12-14T22:33:45Z |\n",
      "| cloudmesh-community/fa18-523-56     | Daniel Hinders                           | 0           | 2018-08-30T23:16:51Z | 2018-12-14T22:34:20Z |\n",
      "| cloudmesh-community/fa18-523-58     | Venkata Pramod Kumar Duvvuri             | 0           | 2018-08-30T23:16:53Z | 2018-12-14T15:22:07Z |\n"
     ]
    },
    {
     "name": "stdout",
     "output_type": "stream",
     "text": [
      "+-------------------------------------+------------------------------------------+-------------+----------------------+----------------------+\n"
     ]
    }
   ],
   "source": [
    "    print(Printer.flatwrite(d, order=order, output='table'))"
   ]
  },
  {
   "cell_type": "code",
   "execution_count": null,
   "metadata": {},
   "outputs": [],
   "source": []
  }
 ],
 "metadata": {
  "kernelspec": {
   "display_name": "Python 3",
   "language": "python",
   "name": "python3"
  },
  "language_info": {
   "codemirror_mode": {
    "name": "ipython",
    "version": 3
   },
   "file_extension": ".py",
   "mimetype": "text/x-python",
   "name": "python",
   "nbconvert_exporter": "python",
   "pygments_lexer": "ipython3",
   "version": "3.7.3"
  }
 },
 "nbformat": 4,
 "nbformat_minor": 2
}
